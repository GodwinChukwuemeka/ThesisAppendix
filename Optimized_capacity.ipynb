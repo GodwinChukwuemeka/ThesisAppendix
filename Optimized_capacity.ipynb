{
 "cells": [
  {
   "cell_type": "code",
   "execution_count": 93,
   "metadata": {},
   "outputs": [],
   "source": [
    "\"\"\"\n",
    "Code to find optimal solar size given variable weekly loading\n",
    "\"\"\"\n",
    "\n",
    "import numpy as np\n",
    "from scipy import optimize\n",
    "import pandas as pd"
   ]
  },
  {
   "cell_type": "code",
   "execution_count": 94,
   "metadata": {},
   "outputs": [],
   "source": [
    "def obj(size,load):\n",
    "    # 20kW system cost $20,000 therefore 1kW is $1000\n",
    "    solar_cost = size * 1050\n",
    "    # Cost of 1 kWh is 0.5\n",
    "    power_cost = 0.5\n",
    "    # 20kW system produces 50kWh/day therefore 2.53h\n",
    "    power_gen = size * 3.1\n",
    "    # Initialise revenue\n",
    "    revenue = 0\n",
    "        # Loop for each week of the year (364 days in this year- could add extra day but doesn't really matter)\n",
    "    for weeks in range(52):\n",
    "        for days in range(7):\n",
    "            # Only power used produces revenue\n",
    "            if power_gen>load[days]:\n",
    "                revenue = revenue + power_cost * load[days]\n",
    "            else:\n",
    "                revenue = revenue + power_cost * power_gen\n",
    "\n",
    "    # Profit over 10 years is the revenue over 10 years - the set up cost\n",
    "    profit = (revenue * 25 - solar_cost)\n",
    "\n",
    "    return (-profit)"
   ]
  },
  {
   "cell_type": "code",
   "execution_count": 95,
   "metadata": {},
   "outputs": [
    {
     "name": "stdout",
     "output_type": "stream",
     "text": [
      "Optimization terminated successfully    (Exit mode 0)\n",
      "            Current function value: [-133919.35347644]\n",
      "            Iterations: 22\n",
      "            Function evaluations: 94\n",
      "            Gradient evaluations: 19\n"
     ]
    }
   ],
   "source": [
    "# Primary load is 50kWh on weekdays secondary is 50kHh everyday\n",
    "load = np.array([46,46,46,46,46,0,0])\n",
    "# Initial guess - current value\n",
    "size = 20\n",
    "# Limits on size \n",
    "bounds=[(11,40)]\n",
    "# Finds optimul\n",
    "min_result = optimize.minimize(fun=obj, x0=size, args=(load), bounds=bounds, method = 'SLSQP', options = {'disp': True})"
   ]
  },
  {
   "cell_type": "code",
   "execution_count": 96,
   "metadata": {},
   "outputs": [
    {
     "name": "stdout",
     "output_type": "stream",
     "text": [
      "Minima found at:\n",
      "solar size = [14.83871097], profit = $[133919.35347644]\n"
     ]
    }
   ],
   "source": [
    "print(\"Minima found at:\")\n",
    "print(\"solar size = {}, profit = ${}\".format(min_result.x, -min_result.fun))"
   ]
  },
  {
   "cell_type": "code",
   "execution_count": 97,
   "metadata": {},
   "outputs": [
    {
     "name": "stdout",
     "output_type": "stream",
     "text": [
      "0.0\n",
      "9025.000000000045\n",
      "18050.00000000009\n",
      "27075.0\n",
      "36100.00000000018\n",
      "45125.0\n",
      "54150.0\n",
      "63174.999999999665\n",
      "72200.00000000036\n",
      "81224.9999999996\n",
      "90250.0\n",
      "99275.00000000052\n",
      "108300.0\n",
      "117324.99999999983\n",
      "126349.99999999933\n",
      "133750.0\n",
      "132700.0\n",
      "131650.0\n",
      "130600.0\n",
      "129550.0\n",
      "128500.0\n",
      "          0\n",
      "0  128500.0\n",
      "1      20.0\n"
     ]
    }
   ],
   "source": [
    "sizes = range (0,21)\n",
    "for size in sizes:\n",
    "    profit = (-obj(size,load))\n",
    "    print(profit)\n",
    "    profit_range = pd.DataFrame((profit,size,))\n",
    "print(profit_range)\n"
   ]
  },
  {
   "cell_type": "code",
   "execution_count": 98,
   "metadata": {},
   "outputs": [],
   "source": [
    "#profit.plot()"
   ]
  },
  {
   "cell_type": "code",
   "execution_count": 102,
   "metadata": {},
   "outputs": [],
   "source": [
    "Weekend_df = pd.DataFrame(profit_range, columns = ['Profits'])"
   ]
  },
  {
   "cell_type": "code",
   "execution_count": null,
   "metadata": {},
   "outputs": [],
   "source": []
  },
  {
   "cell_type": "code",
   "execution_count": null,
   "metadata": {},
   "outputs": [],
   "source": []
  }
 ],
 "metadata": {
  "kernelspec": {
   "display_name": "Python 3",
   "language": "python",
   "name": "python3"
  },
  "language_info": {
   "codemirror_mode": {
    "name": "ipython",
    "version": 3
   },
   "file_extension": ".py",
   "mimetype": "text/x-python",
   "name": "python",
   "nbconvert_exporter": "python",
   "pygments_lexer": "ipython3",
   "version": "3.8.5"
  }
 },
 "nbformat": 4,
 "nbformat_minor": 4
}
